{
 "cells": [
  {
   "cell_type": "markdown",
   "id": "532f84f9",
   "metadata": {},
   "source": [
    "# 1.Data Sourcing/Mining"
   ]
  },
  {
   "cell_type": "code",
   "execution_count": 1,
   "id": "16f2e3c9-c5c5-4e92-8b6f-3e366fed8719",
   "metadata": {},
   "outputs": [],
   "source": [
    "#importing necesarry libraries\n",
    "import pandas as pd\n",
    "import numpy as np\n",
    "import matplotlib.pyplot as plt\n",
    "import seaborn as sns"
   ]
  },
  {
   "cell_type": "code",
   "execution_count": null,
   "id": "30230a99",
   "metadata": {},
   "outputs": [],
   "source": []
  },
  {
   "cell_type": "code",
   "execution_count": 3,
   "id": "0b6dca40",
   "metadata": {},
   "outputs": [
    {
     "data": {
      "application/vnd.microsoft.datawrangler.viewer.v0+json": {
       "columns": [
        {
         "name": "index",
         "rawType": "int64",
         "type": "integer"
        },
        {
         "name": "Unnamed: 0",
         "rawType": "int64",
         "type": "integer"
        },
        {
         "name": "productId",
         "rawType": "int64",
         "type": "integer"
        },
        {
         "name": "productName",
         "rawType": "object",
         "type": "string"
        },
        {
         "name": "brandName",
         "rawType": "object",
         "type": "string"
        },
        {
         "name": "url",
         "rawType": "object",
         "type": "string"
        },
        {
         "name": "price",
         "rawType": "float64",
         "type": "float"
        },
        {
         "name": "stockState",
         "rawType": "object",
         "type": "string"
        },
        {
         "name": "comingSoon",
         "rawType": "bool",
         "type": "boolean"
        },
        {
         "name": "colorName",
         "rawType": "object",
         "type": "string"
        },
        {
         "name": "isOnline",
         "rawType": "bool",
         "type": "boolean"
        },
        {
         "name": "colors",
         "rawType": "object",
         "type": "string"
        },
        {
         "name": "colorShades",
         "rawType": "object",
         "type": "unknown"
        },
        {
         "name": "newArrival",
         "rawType": "bool",
         "type": "boolean"
        },
        {
         "name": "mainCatCode",
         "rawType": "object",
         "type": "string"
        },
        {
         "name": "details",
         "rawType": "object",
         "type": "string"
        },
        {
         "name": "materials",
         "rawType": "object",
         "type": "string"
        }
       ],
       "conversionMethod": "pd.DataFrame",
       "ref": "ee59b1dc-d22d-4efb-905d-17df85d2fd31",
       "rows": [
        [
         "0",
         "0",
         "834333001",
         "Derby Shoes",
         "H&M",
         "https://www2.hm.com/en_us/productpage.0834333001.html",
         "49.99",
         "Available",
         "False",
         "Black",
         "True",
         "272628",
         "Charcoal",
         "False",
         "men_shoes_dressed",
         "Derby shoes with open lacing at front. Canvas lining and insoles. Heel height 1 in.\r\nArt. No.:0834333001\r\nHeel Height:\r\nLow heel\r\nFootwear type:\r\nDerby Shoes\r\nDescription:\r\nBlack, Solid-color\r\nImported:\r\nYes",
         "COMPOSITION\r\nSole:Thermoplastic rubber 100%\r\nUpper:Polyurethane 100%\r\nLining and insole:Cotton 100% , ADDITIONAL MATERIAL INFORMATION\r\nThe total weight of this product contains:\r\n37% Recycled thermoplastic rubber\r\n1% Recycled cotton\r\nWe exclude the weight of minor components such as, but not exclusively: threads, buttons, zippers, embellishments and prints.\r\nThe total weight of the product is calculated by adding the weight of all layers and main components together. Based on that, we calculate how much of that weight is made out by each material. For sets and multipacks, all pieces are counted together as one product in calculations. , We exclude the weight of minor components such as, but not exclusively: threads, buttons, zippers, embellishments and prints.\r\nThe total weight of the product is calculated by adding the weight of all layers and main components together. Based on that, we calculate how much of that weight is made out by each material. For sets and multipacks, all pieces are counted together as one product in calculations. , Material:\r\nCanvas , MATERIALS IN THIS PRODUCT EXPLAINED\r\nCotton\r\nCotton is a soft and versatile natural fiber harvested from the cotton plant.\r\nPolyurethane\r\nPolyurethane (PU) is a synthetic material made from oil (a fossil resource).\r\nRecycled cotton\r\nRecycled cotton is cotton made from textile waste in production or from end-of-life textile waste. The waste is mechanically recycled and spun into new yarn.\r\nRecycled thermoplastic rubber\r\nRecycled thermoplastic rubber (TPR) is a synthetic rubber made from a type of polymer (a fossil resource). It has the characteristics of both rubber and plastic. Recycled TPR is made from plastic waste.\r\nThermoplastic rubber\r\nThermoplastic rubber (TPR) is a synthetic rubber made from a type of polymer (a fossil resource). It has the characteristics of both rubber and plastic. , Cotton\r\nCotton is a soft and versatile natural fiber harvested from the cotton plant. , Polyurethane\r\nPolyurethane (PU) is a synthetic material made from oil (a fossil resource). , Recycled cotton\r\nRecycled cotton is cotton made from textile waste in production or from end-of-life textile waste. The waste is mechanically recycled and spun into new yarn. , Recycled thermoplastic rubber\r\nRecycled thermoplastic rubber (TPR) is a synthetic rubber made from a type of polymer (a fossil resource). It has the characteristics of both rubber and plastic. Recycled TPR is made from plastic waste. , Thermoplastic rubber\r\nThermoplastic rubber (TPR) is a synthetic rubber made from a type of polymer (a fossil resource). It has the characteristics of both rubber and plastic."
        ],
        [
         "1",
         "1",
         "1258600003",
         "Pile-Lined Slippers",
         "H&M",
         "https://www2.hm.com/en_us/productpage.1258600003.html",
         "24.99",
         "Available",
         "False",
         "Black",
         "True",
         "272628",
         "Charcoal",
         "False",
         "men_shoes_slippers",
         "Slippers in napped fabric. Decorative seam at top, fluted soles, and lining in soft pile. Sole thickness 3/4 in.\r\nArt. No.:1258600003\r\nHeel Height:\r\nNo heel\r\nDescription:\r\nBlack, Solid-color\r\nImported:\r\nYes",
         "COMPOSITION\r\nLining:Polyester 100%\r\nUpper:Polyurethane 100%\r\nSole:Ethylene Vinyl Acetate 100% , ADDITIONAL MATERIAL INFORMATION\r\nThe total weight of this product contains:\r\n26% Recycled polyester\r\n11% Recycled ethylene-vinyl acetate\r\nWe exclude the weight of minor components such as, but not exclusively: threads, buttons, zippers, embellishments and prints.\r\nThe total weight of the product is calculated by adding the weight of all layers and main components together. Based on that, we calculate how much of that weight is made out by each material. For sets and multipacks, all pieces are counted together as one product in calculations. , We exclude the weight of minor components such as, but not exclusively: threads, buttons, zippers, embellishments and prints.\r\nThe total weight of the product is calculated by adding the weight of all layers and main components together. Based on that, we calculate how much of that weight is made out by each material. For sets and multipacks, all pieces are counted together as one product in calculations. , Material:\r\nPolyurethane Material , MATERIALS IN THIS PRODUCT EXPLAINED\r\nEthylene Vinyl Acetate\r\nEthylene-vinyl acetate (EVA) is a polymer used to produce a rubber-like, synthetic material. The polymer is usually of fossil origin.\r\nPolyester\r\nPolyester is a synthetic fiber made from crude oil (a fossil resource).\r\nPolyurethane\r\nPolyurethane (PU) is a synthetic material made from oil (a fossil resource).\r\nRecycled ethylene-vinyl acetate\r\nRecycled ethylene-vinyl acetate (EVA) is a polymer used to produce a synthetic, rubber-like material. It is made from post-consumer plastic waste.\r\nRecycled polyester\r\nRecycled polyester is polyester made from PET bottles or end-of-life textile waste. The PET bottles or textile waste is mechanically recycled and processed into new yarn. , Ethylene Vinyl Acetate\r\nEthylene-vinyl acetate (EVA) is a polymer used to produce a rubber-like, synthetic material. The polymer is usually of fossil origin. , Polyester\r\nPolyester is a synthetic fiber made from crude oil (a fossil resource). , Polyurethane ,  , "
        ],
        [
         "2",
         "2",
         "1036812001",
         "Derby Shoes",
         "H&M",
         "https://www2.hm.com/en_us/productpage.1036812001.html",
         "56.99",
         "Available",
         "False",
         "Black",
         "True",
         "272628",
         "Charcoal",
         "False",
         "men_shoes_dressed",
         "Derby shoes in soft faux suede with open lacing. Cotton canvas lining and insoles. Patterned soles. Heel height 3/4 in.\r\nArt. No.:1036812001\r\nHeel Height:\r\nLow heel\r\nFootwear type:\r\nDerby Shoes\r\nDescription:\r\nBlack, Solid-color\r\nImported:\r\nYes",
         "COMPOSITION\r\nLining and insole:Cotton 100%\r\nUpper:Polyester 100%\r\nSole:Thermoplastic rubber 100% , ADDITIONAL MATERIAL INFORMATION\r\nThe total weight of this product contains:\r\n20% Recycled polyester\r\n7% Recycled cotton\r\n6% Recycled thermoplastic rubber\r\nWe exclude the weight of minor components such as, but not exclusively: threads, buttons, zippers, embellishments and prints.\r\nThe total weight of the product is calculated by adding the weight of all layers and main components together. Based on that, we calculate how much of that weight is made out by each material. For sets and multipacks, all pieces are counted together as one product in calculations. , We exclude the weight of minor components such as, but not exclusively: threads, buttons, zippers, embellishments and prints.\r\nThe total weight of the product is calculated by adding the weight of all layers and main components together. Based on that, we calculate how much of that weight is made out by each material. For sets and multipacks, all pieces are counted together as one product in calculations. , Material:\r\nCanvas , MATERIALS IN THIS PRODUCT EXPLAINED\r\nCotton\r\nCotton is a soft and versatile natural fiber harvested from the cotton plant.\r\nPolyester\r\nPolyester is a synthetic fiber made from crude oil (a fossil resource).\r\nRecycled cotton\r\nRecycled cotton is cotton made from textile waste in production or from end-of-life textile waste. The waste is mechanically recycled and spun into new yarn.\r\nRecycled polyester\r\nRecycled polyester is polyester made from PET bottles or end-of-life textile waste. The PET bottles or textile waste is mechanically recycled and processed into new yarn.\r\nRecycled thermoplastic rubber\r\nRecycled thermoplastic rubber (TPR) is a synthetic rubber made from a type of polymer (a fossil resource). It has the characteristics of both rubber and plastic. Recycled TPR is made from plastic waste.\r\nThermoplastic rubber\r\nThermoplastic rubber (TPR) is a synthetic rubber made from a type of polymer (a fossil resource). It has the characteristics of both rubber and plastic. , Cotton\r\nCotton is a soft and versatile natural fiber harvested from the cotton plant. , Polyester\r\nPolyester is a synthetic fiber made from crude oil (a fossil resource). , Recycled cotton\r\nRecycled cotton is cotton made from textile waste in production or from end-of-life textile waste. The waste is mechanically recycled and spun into new yarn. , Recycled polyester\r\nRecycled polyester is polyester made from PET bottles or end-of-life textile waste. The PET bottles or textile waste is mechanically recycled and processed into new yarn. , Recycled thermoplastic rubber\r\nRecycled thermoplastic rubber (TPR) is a synthetic rubber made from a type of polymer (a fossil resource). It has the characteristics of both rubber and plastic. Recycled TPR is made from plastic waste. , Thermoplastic rubber\r\nThermoplastic rubber (TPR) is a synthetic rubber made from a type of polymer (a fossil resource). It has the characteristics of both rubber and plastic."
        ],
        [
         "3",
         "3",
         "1112924002",
         "Fleece-lined Slippers",
         "H&M",
         "https://www2.hm.com/en_us/productpage.1112924002.html",
         "29.99",
         "Available",
         "False",
         "Dark blue",
         "True",
         "393B47",
         "Bright blue|Cobalt blue|Dark blue|Indigo|Navy blue|Royal blue",
         "False",
         "men_shoes_slippers",
         "Slippers in woven fabric with a moccasin seam at front. Lining and insoles in soft teddy bear fabric.\r\nArt. No.:1112924002\r\nHeel Height:\r\nNo heel\r\nDescription:\r\nDark blue, Solid-color\r\nImported:\r\nYes",
         "COMPOSITION\r\nLining:Polyester 100%\r\nUpper:Polyester 100%\r\nSole:Ethylene Vinyl Acetate 100% , ADDITIONAL MATERIAL INFORMATION\r\nThe total weight of this product contains:\r\n63% Recycled polyester\r\n6% Recycled ethylene-vinyl acetate\r\nWe exclude the weight of minor components such as, but not exclusively: threads, buttons, zippers, embellishments and prints.\r\nThe total weight of the product is calculated by adding the weight of all layers and main components together. Based on that, we calculate how much of that weight is made out by each material. For sets and multipacks, all pieces are counted together as one product in calculations. , We exclude the weight of minor components such as, but not exclusively: threads, buttons, zippers, embellishments and prints.\r\nThe total weight of the product is calculated by adding the weight of all layers and main components together. Based on that, we calculate how much of that weight is made out by each material. For sets and multipacks, all pieces are counted together as one product in calculations. , MATERIALS IN THIS PRODUCT EXPLAINED\r\nEthylene Vinyl Acetate\r\nEthylene-vinyl acetate (EVA) is a polymer used to produce a rubber-like, synthetic material. The polymer is usually of fossil origin.\r\nPolyester\r\nPolyester is a synthetic fiber made from crude oil (a fossil resource).\r\nRecycled ethylene-vinyl acetate\r\nRecycled ethylene-vinyl acetate (EVA) is a polymer used to produce a synthetic, rubber-like material. It is made from post-consumer plastic waste.\r\nRecycled polyester\r\nRecycled polyester is polyester made from PET bottles or end-of-life textile waste. The PET bottles or textile waste is mechanically recycled and processed into new yarn. , Ethylene Vinyl Acetate\r\nEthylene-vinyl acetate (EVA) is a polymer used to produce a rubber-like, synthetic material. The polymer is usually of fossil origin. , Polyester\r\nPolyester is a synthetic fiber made from crude oil (a fossil resource). , Recycled ethylene-vinyl acetate\r\nRecycled ethylene-vinyl acetate (EVA) is a polymer used to produce a synthetic, rubber-like material. It is made from post-consumer plastic waste. , Recycled polyester\r\nRecycled polyester is polyester made from PET bottles or end-of-life textile waste. The PET bottles or textile waste is mechanically recycled and processed into new yarn."
        ],
        [
         "4",
         "4",
         "1119476020",
         "Sneakers",
         "H&M",
         "https://www2.hm.com/en_us/productpage.1119476020.html",
         "29.99",
         "Available",
         "False",
         "White",
         "True",
         "FFFFFF",
         null,
         "False",
         "men_shoes_sneakers",
         "Sneakers with a padded upper edge and tongue, and lacing at front. Lining and insoles in piqué. Fluted rubber soles. Sole thickness 1 1/4 in.\r\nArt. No.:1119476020\r\nHeel Height:\r\nNo heel\r\nFootwear type:\r\nSneakers\r\nDescription:\r\nWhite, Solid-color\r\nImported:\r\nYes",
         "COMPOSITION\r\nLining:Polyester 100%\r\nUpper:Polyurethane 100%\r\nSole:Rubber 100% , ADDITIONAL MATERIAL INFORMATION\r\nThe total weight of this product contains:\r\n8% Recycled rubber\r\n8% Recycled polyester\r\nWe exclude the weight of minor components such as, but not exclusively: threads, buttons, zippers, embellishments and prints.\r\nThe total weight of the product is calculated by adding the weight of all layers and main components together. Based on that, we calculate how much of that weight is made out by each material. For sets and multipacks, all pieces are counted together as one product in calculations. , We exclude the weight of minor components such as, but not exclusively: threads, buttons, zippers, embellishments and prints.\r\nThe total weight of the product is calculated by adding the weight of all layers and main components together. Based on that, we calculate how much of that weight is made out by each material. For sets and multipacks, all pieces are counted together as one product in calculations. , Material:\r\nPolyurethane Material , MATERIALS IN THIS PRODUCT EXPLAINED\r\nPolyester\r\nPolyester is a synthetic fiber made from crude oil (a fossil resource).\r\nPolyurethane\r\nPolyurethane (PU) is a synthetic material made from oil (a fossil resource).\r\nRecycled polyester\r\nRecycled polyester is polyester made from PET bottles or end-of-life textile waste. The PET bottles or textile waste is mechanically recycled and processed into new yarn.\r\nRecycled rubber\r\nRecycled rubber is produced from post-consumer rubber waste. The waste can consist of both natural rubber (collected from rubber trees) and synthetic rubber (petrochemical-based).\r\nRubber\r\nRubber is a polymer material. It can either be natural – collected from rubber trees, or synthetic – petrochemical based (made from fossil resources). , Polyester\r\nPolyester is a synthetic fiber made from crude oil (a fossil resource). , Polyurethane\r\nPolyurethane (PU) is a synthetic material made from oil (a fossil resource). , Recycled polyester\r\nRecycled polyester is polyester made from PET bottles or end-of-life textile waste. The PET bottles or textile waste is mechanically recycled and processed into new yarn. , Recycled rubber\r\nRecycled rubber is produced from post-consumer rubber waste. The waste can consist of both natural rubber (collected from rubber trees) and synthetic rubber (petrochemical-based). , Rubber\r\nRubber is a polymer material. It can either be natural – collected from rubber trees, or synthetic – petrochemical based (made from fossil resources)."
        ]
       ],
       "shape": {
        "columns": 16,
        "rows": 5
       }
      },
      "text/html": [
       "<div>\n",
       "<style scoped>\n",
       "    .dataframe tbody tr th:only-of-type {\n",
       "        vertical-align: middle;\n",
       "    }\n",
       "\n",
       "    .dataframe tbody tr th {\n",
       "        vertical-align: top;\n",
       "    }\n",
       "\n",
       "    .dataframe thead th {\n",
       "        text-align: right;\n",
       "    }\n",
       "</style>\n",
       "<table border=\"1\" class=\"dataframe\">\n",
       "  <thead>\n",
       "    <tr style=\"text-align: right;\">\n",
       "      <th></th>\n",
       "      <th>Unnamed: 0</th>\n",
       "      <th>productId</th>\n",
       "      <th>productName</th>\n",
       "      <th>brandName</th>\n",
       "      <th>url</th>\n",
       "      <th>price</th>\n",
       "      <th>stockState</th>\n",
       "      <th>comingSoon</th>\n",
       "      <th>colorName</th>\n",
       "      <th>isOnline</th>\n",
       "      <th>colors</th>\n",
       "      <th>colorShades</th>\n",
       "      <th>newArrival</th>\n",
       "      <th>mainCatCode</th>\n",
       "      <th>details</th>\n",
       "      <th>materials</th>\n",
       "    </tr>\n",
       "  </thead>\n",
       "  <tbody>\n",
       "    <tr>\n",
       "      <th>0</th>\n",
       "      <td>0</td>\n",
       "      <td>834333001</td>\n",
       "      <td>Derby Shoes</td>\n",
       "      <td>H&amp;M</td>\n",
       "      <td>https://www2.hm.com/en_us/productpage.08343330...</td>\n",
       "      <td>49.99</td>\n",
       "      <td>Available</td>\n",
       "      <td>False</td>\n",
       "      <td>Black</td>\n",
       "      <td>True</td>\n",
       "      <td>272628</td>\n",
       "      <td>Charcoal</td>\n",
       "      <td>False</td>\n",
       "      <td>men_shoes_dressed</td>\n",
       "      <td>Derby shoes with open lacing at front. Canvas ...</td>\n",
       "      <td>COMPOSITION\\r\\nSole:Thermoplastic rubber 100%\\...</td>\n",
       "    </tr>\n",
       "    <tr>\n",
       "      <th>1</th>\n",
       "      <td>1</td>\n",
       "      <td>1258600003</td>\n",
       "      <td>Pile-Lined Slippers</td>\n",
       "      <td>H&amp;M</td>\n",
       "      <td>https://www2.hm.com/en_us/productpage.12586000...</td>\n",
       "      <td>24.99</td>\n",
       "      <td>Available</td>\n",
       "      <td>False</td>\n",
       "      <td>Black</td>\n",
       "      <td>True</td>\n",
       "      <td>272628</td>\n",
       "      <td>Charcoal</td>\n",
       "      <td>False</td>\n",
       "      <td>men_shoes_slippers</td>\n",
       "      <td>Slippers in napped fabric. Decorative seam at ...</td>\n",
       "      <td>COMPOSITION\\r\\nLining:Polyester 100%\\r\\nUpper:...</td>\n",
       "    </tr>\n",
       "    <tr>\n",
       "      <th>2</th>\n",
       "      <td>2</td>\n",
       "      <td>1036812001</td>\n",
       "      <td>Derby Shoes</td>\n",
       "      <td>H&amp;M</td>\n",
       "      <td>https://www2.hm.com/en_us/productpage.10368120...</td>\n",
       "      <td>56.99</td>\n",
       "      <td>Available</td>\n",
       "      <td>False</td>\n",
       "      <td>Black</td>\n",
       "      <td>True</td>\n",
       "      <td>272628</td>\n",
       "      <td>Charcoal</td>\n",
       "      <td>False</td>\n",
       "      <td>men_shoes_dressed</td>\n",
       "      <td>Derby shoes in soft faux suede with open lacin...</td>\n",
       "      <td>COMPOSITION\\r\\nLining and insole:Cotton 100%\\r...</td>\n",
       "    </tr>\n",
       "    <tr>\n",
       "      <th>3</th>\n",
       "      <td>3</td>\n",
       "      <td>1112924002</td>\n",
       "      <td>Fleece-lined Slippers</td>\n",
       "      <td>H&amp;M</td>\n",
       "      <td>https://www2.hm.com/en_us/productpage.11129240...</td>\n",
       "      <td>29.99</td>\n",
       "      <td>Available</td>\n",
       "      <td>False</td>\n",
       "      <td>Dark blue</td>\n",
       "      <td>True</td>\n",
       "      <td>393B47</td>\n",
       "      <td>Bright blue|Cobalt blue|Dark blue|Indigo|Navy ...</td>\n",
       "      <td>False</td>\n",
       "      <td>men_shoes_slippers</td>\n",
       "      <td>Slippers in woven fabric with a moccasin seam ...</td>\n",
       "      <td>COMPOSITION\\r\\nLining:Polyester 100%\\r\\nUpper:...</td>\n",
       "    </tr>\n",
       "    <tr>\n",
       "      <th>4</th>\n",
       "      <td>4</td>\n",
       "      <td>1119476020</td>\n",
       "      <td>Sneakers</td>\n",
       "      <td>H&amp;M</td>\n",
       "      <td>https://www2.hm.com/en_us/productpage.11194760...</td>\n",
       "      <td>29.99</td>\n",
       "      <td>Available</td>\n",
       "      <td>False</td>\n",
       "      <td>White</td>\n",
       "      <td>True</td>\n",
       "      <td>FFFFFF</td>\n",
       "      <td>NaN</td>\n",
       "      <td>False</td>\n",
       "      <td>men_shoes_sneakers</td>\n",
       "      <td>Sneakers with a padded upper edge and tongue, ...</td>\n",
       "      <td>COMPOSITION\\r\\nLining:Polyester 100%\\r\\nUpper:...</td>\n",
       "    </tr>\n",
       "  </tbody>\n",
       "</table>\n",
       "</div>"
      ],
      "text/plain": [
       "   Unnamed: 0   productId            productName brandName  \\\n",
       "0           0   834333001            Derby Shoes       H&M   \n",
       "1           1  1258600003    Pile-Lined Slippers       H&M   \n",
       "2           2  1036812001            Derby Shoes       H&M   \n",
       "3           3  1112924002  Fleece-lined Slippers       H&M   \n",
       "4           4  1119476020               Sneakers       H&M   \n",
       "\n",
       "                                                 url  price stockState  \\\n",
       "0  https://www2.hm.com/en_us/productpage.08343330...  49.99  Available   \n",
       "1  https://www2.hm.com/en_us/productpage.12586000...  24.99  Available   \n",
       "2  https://www2.hm.com/en_us/productpage.10368120...  56.99  Available   \n",
       "3  https://www2.hm.com/en_us/productpage.11129240...  29.99  Available   \n",
       "4  https://www2.hm.com/en_us/productpage.11194760...  29.99  Available   \n",
       "\n",
       "   comingSoon  colorName  isOnline  colors  \\\n",
       "0       False      Black      True  272628   \n",
       "1       False      Black      True  272628   \n",
       "2       False      Black      True  272628   \n",
       "3       False  Dark blue      True  393B47   \n",
       "4       False      White      True  FFFFFF   \n",
       "\n",
       "                                         colorShades  newArrival  \\\n",
       "0                                           Charcoal       False   \n",
       "1                                           Charcoal       False   \n",
       "2                                           Charcoal       False   \n",
       "3  Bright blue|Cobalt blue|Dark blue|Indigo|Navy ...       False   \n",
       "4                                                NaN       False   \n",
       "\n",
       "          mainCatCode                                            details  \\\n",
       "0   men_shoes_dressed  Derby shoes with open lacing at front. Canvas ...   \n",
       "1  men_shoes_slippers  Slippers in napped fabric. Decorative seam at ...   \n",
       "2   men_shoes_dressed  Derby shoes in soft faux suede with open lacin...   \n",
       "3  men_shoes_slippers  Slippers in woven fabric with a moccasin seam ...   \n",
       "4  men_shoes_sneakers  Sneakers with a padded upper edge and tongue, ...   \n",
       "\n",
       "                                           materials  \n",
       "0  COMPOSITION\\r\\nSole:Thermoplastic rubber 100%\\...  \n",
       "1  COMPOSITION\\r\\nLining:Polyester 100%\\r\\nUpper:...  \n",
       "2  COMPOSITION\\r\\nLining and insole:Cotton 100%\\r...  \n",
       "3  COMPOSITION\\r\\nLining:Polyester 100%\\r\\nUpper:...  \n",
       "4  COMPOSITION\\r\\nLining:Polyester 100%\\r\\nUpper:...  "
      ]
     },
     "execution_count": 3,
     "metadata": {},
     "output_type": "execute_result"
    }
   ],
   "source": [
    "# Load the dataset\n",
    "df = pd.read_csv('../data/handm.csv')\n",
    "\n",
    "# displays the first 5 rows of the dataset\n",
    "df.head()\n"
   ]
  },
  {
   "cell_type": "markdown",
   "id": "212e6636",
   "metadata": {},
   "source": [
    "# 2. DATA PREPERATION"
   ]
  },
  {
   "cell_type": "code",
   "execution_count": 4,
   "id": "5143a674",
   "metadata": {},
   "outputs": [
    {
     "data": {
      "text/plain": [
       "(9677, 16)"
      ]
     },
     "execution_count": 4,
     "metadata": {},
     "output_type": "execute_result"
    }
   ],
   "source": [
    "#displays the number of rows and columns in the dataset\n",
    "df.shape"
   ]
  },
  {
   "cell_type": "code",
   "execution_count": 5,
   "id": "46767e18",
   "metadata": {},
   "outputs": [
    {
     "data": {
      "application/vnd.microsoft.datawrangler.viewer.v0+json": {
       "columns": [
        {
         "name": "index",
         "rawType": "object",
         "type": "string"
        },
        {
         "name": "Unnamed: 0",
         "rawType": "float64",
         "type": "float"
        },
        {
         "name": "productId",
         "rawType": "float64",
         "type": "float"
        },
        {
         "name": "price",
         "rawType": "float64",
         "type": "float"
        }
       ],
       "conversionMethod": "pd.DataFrame",
       "ref": "d92d6d21-8caf-4b42-85e1-380995a91c2b",
       "rows": [
        [
         "count",
         "9677.0",
         "9677.0",
         "9677.0"
        ],
        [
         "mean",
         "4838.0",
         "1188701625.9199133",
         "34.21508835382867"
        ],
        [
         "std",
         "2793.653611312612",
         "120603996.9422966",
         "28.26266470250349"
        ],
        [
         "min",
         "0.0",
         "107727021.0",
         "3.99"
        ],
        [
         "25%",
         "2419.0",
         "1198945002.0",
         "18.99"
        ],
        [
         "50%",
         "4838.0",
         "1230524001.0",
         "29.99"
        ],
        [
         "75%",
         "7257.0",
         "1244770001.0",
         "39.99"
        ],
        [
         "max",
         "9676.0",
         "1280785002.0",
         "469.0"
        ]
       ],
       "shape": {
        "columns": 3,
        "rows": 8
       }
      },
      "text/html": [
       "<div>\n",
       "<style scoped>\n",
       "    .dataframe tbody tr th:only-of-type {\n",
       "        vertical-align: middle;\n",
       "    }\n",
       "\n",
       "    .dataframe tbody tr th {\n",
       "        vertical-align: top;\n",
       "    }\n",
       "\n",
       "    .dataframe thead th {\n",
       "        text-align: right;\n",
       "    }\n",
       "</style>\n",
       "<table border=\"1\" class=\"dataframe\">\n",
       "  <thead>\n",
       "    <tr style=\"text-align: right;\">\n",
       "      <th></th>\n",
       "      <th>Unnamed: 0</th>\n",
       "      <th>productId</th>\n",
       "      <th>price</th>\n",
       "    </tr>\n",
       "  </thead>\n",
       "  <tbody>\n",
       "    <tr>\n",
       "      <th>count</th>\n",
       "      <td>9677.000000</td>\n",
       "      <td>9.677000e+03</td>\n",
       "      <td>9677.000000</td>\n",
       "    </tr>\n",
       "    <tr>\n",
       "      <th>mean</th>\n",
       "      <td>4838.000000</td>\n",
       "      <td>1.188702e+09</td>\n",
       "      <td>34.215088</td>\n",
       "    </tr>\n",
       "    <tr>\n",
       "      <th>std</th>\n",
       "      <td>2793.653611</td>\n",
       "      <td>1.206040e+08</td>\n",
       "      <td>28.262665</td>\n",
       "    </tr>\n",
       "    <tr>\n",
       "      <th>min</th>\n",
       "      <td>0.000000</td>\n",
       "      <td>1.077270e+08</td>\n",
       "      <td>3.990000</td>\n",
       "    </tr>\n",
       "    <tr>\n",
       "      <th>25%</th>\n",
       "      <td>2419.000000</td>\n",
       "      <td>1.198945e+09</td>\n",
       "      <td>18.990000</td>\n",
       "    </tr>\n",
       "    <tr>\n",
       "      <th>50%</th>\n",
       "      <td>4838.000000</td>\n",
       "      <td>1.230524e+09</td>\n",
       "      <td>29.990000</td>\n",
       "    </tr>\n",
       "    <tr>\n",
       "      <th>75%</th>\n",
       "      <td>7257.000000</td>\n",
       "      <td>1.244770e+09</td>\n",
       "      <td>39.990000</td>\n",
       "    </tr>\n",
       "    <tr>\n",
       "      <th>max</th>\n",
       "      <td>9676.000000</td>\n",
       "      <td>1.280785e+09</td>\n",
       "      <td>469.000000</td>\n",
       "    </tr>\n",
       "  </tbody>\n",
       "</table>\n",
       "</div>"
      ],
      "text/plain": [
       "        Unnamed: 0     productId        price\n",
       "count  9677.000000  9.677000e+03  9677.000000\n",
       "mean   4838.000000  1.188702e+09    34.215088\n",
       "std    2793.653611  1.206040e+08    28.262665\n",
       "min       0.000000  1.077270e+08     3.990000\n",
       "25%    2419.000000  1.198945e+09    18.990000\n",
       "50%    4838.000000  1.230524e+09    29.990000\n",
       "75%    7257.000000  1.244770e+09    39.990000\n",
       "max    9676.000000  1.280785e+09   469.000000"
      ]
     },
     "execution_count": 5,
     "metadata": {},
     "output_type": "execute_result"
    }
   ],
   "source": [
    "# displays the columns in the dataset\n",
    "df.describe()"
   ]
  },
  {
   "cell_type": "code",
   "execution_count": 6,
   "id": "9f97e04b",
   "metadata": {},
   "outputs": [
    {
     "name": "stdout",
     "output_type": "stream",
     "text": [
      "<class 'pandas.core.frame.DataFrame'>\n",
      "RangeIndex: 9677 entries, 0 to 9676\n",
      "Data columns (total 16 columns):\n",
      " #   Column       Non-Null Count  Dtype  \n",
      "---  ------       --------------  -----  \n",
      " 0   Unnamed: 0   9677 non-null   int64  \n",
      " 1   productId    9677 non-null   int64  \n",
      " 2   productName  9677 non-null   object \n",
      " 3   brandName    9677 non-null   object \n",
      " 4   url          9677 non-null   object \n",
      " 5   price        9677 non-null   float64\n",
      " 6   stockState   9677 non-null   object \n",
      " 7   comingSoon   9677 non-null   bool   \n",
      " 8   colorName    9677 non-null   object \n",
      " 9   isOnline     9677 non-null   bool   \n",
      " 10  colors       9677 non-null   object \n",
      " 11  colorShades  6511 non-null   object \n",
      " 12  newArrival   9677 non-null   bool   \n",
      " 13  mainCatCode  9677 non-null   object \n",
      " 14  details      9676 non-null   object \n",
      " 15  materials    9518 non-null   object \n",
      "dtypes: bool(3), float64(1), int64(2), object(10)\n",
      "memory usage: 1011.3+ KB\n",
      "None\n"
     ]
    }
   ],
   "source": [
    "# displays the data types of the columns in the dataset\n",
    "print(df.info())"
   ]
  },
  {
   "cell_type": "code",
   "execution_count": 7,
   "id": "cfa9d61f",
   "metadata": {},
   "outputs": [
    {
     "name": "stdout",
     "output_type": "stream",
     "text": [
      "Unnamed: 0       int64\n",
      "productId        int64\n",
      "productName     object\n",
      "brandName       object\n",
      "url             object\n",
      "price          float64\n",
      "stockState      object\n",
      "comingSoon        bool\n",
      "colorName       object\n",
      "isOnline          bool\n",
      "colors          object\n",
      "colorShades     object\n",
      "newArrival        bool\n",
      "mainCatCode     object\n",
      "details         object\n",
      "materials       object\n",
      "dtype: object\n"
     ]
    }
   ],
   "source": [
    "# checks data types of each column\n",
    "print(df.dtypes)"
   ]
  },
  {
   "cell_type": "markdown",
   "id": "47a183ac",
   "metadata": {},
   "source": [
    "# 3. DATA CLEANING"
   ]
  },
  {
   "cell_type": "markdown",
   "id": "987224ec",
   "metadata": {},
   "source": [
    "In cell below I group data into `numeric_df` for numeric values and `categorical_df` for object values for efficient cleaning.\n",
    "\n",
    "Select all numeric values and store them on a variable `numeric_df`"
   ]
  },
  {
   "cell_type": "code",
   "execution_count": 8,
   "id": "7f3fab01",
   "metadata": {},
   "outputs": [
    {
     "data": {
      "text/plain": [
       "['Unnamed: 0', 'productId', 'price']"
      ]
     },
     "execution_count": 8,
     "metadata": {},
     "output_type": "execute_result"
    }
   ],
   "source": [
    "# selet numerical columns\n",
    "\n",
    "numeric_df = df.select_dtypes(include=[np.number]).columns.tolist()\n",
    "numeric_df"
   ]
  },
  {
   "cell_type": "markdown",
   "id": "25f68f18",
   "metadata": {},
   "source": [
    "Cell above output 3 columns which contains numeric values.\n",
    "\n",
    "In cell below I check for **missing values** in numeric values"
   ]
  },
  {
   "cell_type": "code",
   "execution_count": 9,
   "id": "7a792807",
   "metadata": {},
   "outputs": [
    {
     "data": {
      "text/plain": [
       "Unnamed: 0    0.0\n",
       "productId     0.0\n",
       "price         0.0\n",
       "dtype: float64"
      ]
     },
     "execution_count": 9,
     "metadata": {},
     "output_type": "execute_result"
    }
   ],
   "source": [
    "# check for missing values in numeric_df\n",
    "\n",
    "(df[numeric_df].isna().sum() / len(df[numeric_df])) * 100 # displays the percentage of missing values in each column"
   ]
  },
  {
   "cell_type": "markdown",
   "id": "34cc9997",
   "metadata": {},
   "source": [
    "Cell above shows all numeric_df columns has no missing values.\n",
    "\n",
    "In cell below I check for duplicates in numeric_df"
   ]
  },
  {
   "cell_type": "code",
   "execution_count": 12,
   "id": "9e66b206",
   "metadata": {},
   "outputs": [
    {
     "data": {
      "text/plain": [
       "np.int64(0)"
      ]
     },
     "execution_count": 12,
     "metadata": {},
     "output_type": "execute_result"
    }
   ],
   "source": [
    "# check for duplicates in the dataset\n",
    "df[numeric_df].duplicated().sum() # displays the number of duplicate rows in the dataset"
   ]
  },
  {
   "cell_type": "markdown",
   "id": "d65b3df3",
   "metadata": {},
   "source": [
    "No duplicates contained in numeric_df\n",
    "\n",
    "Next maybe check for **outliers, data types format etc**\n",
    "\n",
    "Below I select **categorical values in df** and store them under variable **categorical_df** for efficient cleaning."
   ]
  },
  {
   "cell_type": "code",
   "execution_count": 15,
   "id": "37d52e52",
   "metadata": {},
   "outputs": [
    {
     "data": {
      "text/plain": [
       "['productName',\n",
       " 'brandName',\n",
       " 'url',\n",
       " 'stockState',\n",
       " 'colorName',\n",
       " 'colors',\n",
       " 'colorShades',\n",
       " 'mainCatCode',\n",
       " 'details',\n",
       " 'materials']"
      ]
     },
     "execution_count": 15,
     "metadata": {},
     "output_type": "execute_result"
    }
   ],
   "source": [
    "# select categorical columns\n",
    "\n",
    "categorical_df = df.select_dtypes(include=[np.object_]).columns.tolist()\n",
    "categorical_df"
   ]
  },
  {
   "cell_type": "markdown",
   "id": "154f0725",
   "metadata": {},
   "source": [
    "Cell above select all categorical coumns in df dataset for efficient cleaning of dataset.\n",
    "\n",
    "In cell below I check for missing values."
   ]
  },
  {
   "cell_type": "code",
   "execution_count": 16,
   "id": "c8f08332",
   "metadata": {},
   "outputs": [
    {
     "data": {
      "text/plain": [
       "productName     0.000000\n",
       "brandName       0.000000\n",
       "url             0.000000\n",
       "stockState      0.000000\n",
       "colorName       0.000000\n",
       "colors          0.000000\n",
       "colorShades    32.716751\n",
       "mainCatCode     0.000000\n",
       "details         0.010334\n",
       "materials       1.643071\n",
       "dtype: float64"
      ]
     },
     "execution_count": 16,
     "metadata": {},
     "output_type": "execute_result"
    }
   ],
   "source": [
    "# checks for null values in categorical_df\n",
    "(df[categorical_df].isna().sum() / len(df[categorical_df])) * 100 # displays the percentage of missing values in each column\n",
    "# check for duplicates in the dataset"
   ]
  },
  {
   "cell_type": "markdown",
   "id": "ecec5a92",
   "metadata": {},
   "source": [
    "The cell above checks for missing values and three columns containes null values **colorShades**, **materials** & **details**.\n",
    "\n",
    "Cell below I will impute for the missing values in specified columns using **mode**."
   ]
  },
  {
   "cell_type": "code",
   "execution_count": 20,
   "id": "41325022",
   "metadata": {},
   "outputs": [],
   "source": [
    "# impute missing values in categorical_df with mode\n",
    "\n",
    "df['colorShades'] = df['colorShades'].fillna(df['colorShades'].mode()[0])\n",
    "df['materials'] = df['materials'].fillna(df['materials'].mode()[0])\n",
    "df['details'] = df['details'].fillna(df['details'].mode()[0])"
   ]
  },
  {
   "cell_type": "code",
   "execution_count": 21,
   "id": "e629d455",
   "metadata": {},
   "outputs": [
    {
     "data": {
      "text/plain": [
       "productName    0.0\n",
       "brandName      0.0\n",
       "url            0.0\n",
       "stockState     0.0\n",
       "colorName      0.0\n",
       "colors         0.0\n",
       "colorShades    0.0\n",
       "mainCatCode    0.0\n",
       "details        0.0\n",
       "materials      0.0\n",
       "dtype: float64"
      ]
     },
     "execution_count": 21,
     "metadata": {},
     "output_type": "execute_result"
    }
   ],
   "source": [
    "# check if missing values have been imputed\n",
    "df[categorical_df].isna().sum() / len(df[categorical_df]) # displays the percentage of missing values in each column"
   ]
  },
  {
   "cell_type": "markdown",
   "id": "10fe5d72",
   "metadata": {},
   "source": [
    "The cell above shows that all missing values have been imputed successfully\n",
    "\n",
    "Below I check for duplicates in categorical_df"
   ]
  },
  {
   "cell_type": "code",
   "execution_count": 24,
   "id": "ab598794",
   "metadata": {},
   "outputs": [
    {
     "data": {
      "text/plain": [
       "np.int64(1153)"
      ]
     },
     "execution_count": 24,
     "metadata": {},
     "output_type": "execute_result"
    }
   ],
   "source": [
    "# check for duplicates in categorical_df\n",
    "df[categorical_df].duplicated().sum() # displays the number of duplicate rows in the dataset"
   ]
  },
  {
   "cell_type": "markdown",
   "id": "b410dce4",
   "metadata": {},
   "source": [
    "Cell above shows there are several duplicates but basesd on the original dataset shows each productid which identfies product with unique values so no need to drop them for now"
   ]
  },
  {
   "cell_type": "code",
   "execution_count": 25,
   "id": "0f267ec9",
   "metadata": {},
   "outputs": [
    {
     "name": "stdout",
     "output_type": "stream",
     "text": [
      "<class 'pandas.core.frame.DataFrame'>\n",
      "RangeIndex: 9677 entries, 0 to 9676\n",
      "Data columns (total 16 columns):\n",
      " #   Column       Non-Null Count  Dtype  \n",
      "---  ------       --------------  -----  \n",
      " 0   Unnamed: 0   9677 non-null   int64  \n",
      " 1   productId    9677 non-null   int64  \n",
      " 2   productName  9677 non-null   object \n",
      " 3   brandName    9677 non-null   object \n",
      " 4   url          9677 non-null   object \n",
      " 5   price        9677 non-null   float64\n",
      " 6   stockState   9677 non-null   object \n",
      " 7   comingSoon   9677 non-null   bool   \n",
      " 8   colorName    9677 non-null   object \n",
      " 9   isOnline     9677 non-null   bool   \n",
      " 10  colors       9677 non-null   object \n",
      " 11  colorShades  9677 non-null   object \n",
      " 12  newArrival   9677 non-null   bool   \n",
      " 13  mainCatCode  9677 non-null   object \n",
      " 14  details      9677 non-null   object \n",
      " 15  materials    9677 non-null   object \n",
      "dtypes: bool(3), float64(1), int64(2), object(10)\n",
      "memory usage: 1011.3+ KB\n"
     ]
    }
   ],
   "source": [
    "# check info() again to check if missing values have been imputed\n",
    "df.info()"
   ]
  },
  {
   "cell_type": "code",
   "execution_count": 26,
   "id": "6c42a570",
   "metadata": {},
   "outputs": [
    {
     "data": {
      "text/plain": [
       "(9677, 16)"
      ]
     },
     "execution_count": 26,
     "metadata": {},
     "output_type": "execute_result"
    }
   ],
   "source": [
    "# check for shape of the dataset again\n",
    "df.shape"
   ]
  },
  {
   "cell_type": "code",
   "execution_count": 27,
   "id": "6a5e8750",
   "metadata": {},
   "outputs": [],
   "source": [
    "# save the cleaned dataset to a new csv file for tableau analysis\n",
    "df.to_csv('../data/cleaned_handm.csv', index=False)"
   ]
  },
  {
   "cell_type": "markdown",
   "id": "85f3c031",
   "metadata": {},
   "source": [
    "# 4. DATA VISUALUZATION"
   ]
  },
  {
   "cell_type": "code",
   "execution_count": 45,
   "id": "f18f9d94",
   "metadata": {},
   "outputs": [
    {
     "data": {
      "image/png": "[encoded data removed]",
      "text/plain": [
       "<Figure size 720x432 with 1 Axes>"
      ]
     },
     "metadata": {},
     "output_type": "display_data"
    }
   ],
   "source": [
    "# Set the style for seaborn\n",
    "sns.set(style=\"whitegrid\")\n",
    "\n",
    "# 1. Histogram of a numerical column (e.g., 'price')\n",
    "plt.figure(figsize=(10, 6))\n",
    "sns.histplot(df_copy['price'], bins=30, kde=True)\n",
    "plt.title('Distribution of Prices')\n",
    "plt.xlabel('Price')\n",
    "plt.ylabel('Frequency')\n",
    "plt.show()"
   ]
  },
  {
   "cell_type": "code",
   "execution_count": null,
   "id": "3b4f00b4",
   "metadata": {},
   "outputs": [
    {
     "data": {
      "image/png": "[encoded data removed]",
      "text/plain": [
       "<Figure size 1008x576 with 1 Axes>"
      ]
     },
     "metadata": {},
     "output_type": "display_data"
    }
   ],
   "source": [
    "# 2. Box plot of 'price' by 'brandName'\n",
    "plt.figure(figsize=(14, 8))\n",
    "sns.boxplot(data=df_copy, x='brandName', y='price')\n",
    "plt.title('Price Distribution by Brand Name')\n",
    "plt.xlabel('Brand Name')\n",
    "plt.ylabel('Price')\n",
    "plt.xticks(rotation=45)\n",
    "plt.show()"
   ]
  },
  {
   "cell_type": "code",
   "execution_count": 66,
   "id": "8a17fe3d",
   "metadata": {},
   "outputs": [
    {
     "data": {
      "image/png": "[encoded data removed]",
      "text/plain": [
       "<Figure size 864x576 with 2 Axes>"
      ]
     },
     "metadata": {},
     "output_type": "display_data"
    }
   ],
   "source": [
    "# 3. Heatmap of correlations between numerical features\n",
    "\n",
    "# Select numerical columns for correlation analysis\n",
    "numerical_cols = df_clean.select_dtypes(include=['float64', 'int64']).columns\n",
    "\n",
    "#  correlation matrix calculation\n",
    "correlation_matrix = df_clean[numerical_cols].corr()\n",
    "\n",
    "# matplotlib figure\n",
    "plt.figure(figsize=(12, 8))\n",
    "\n",
    "#  heatmap creation\n",
    "sns.heatmap(correlation_matrix, annot=True, fmt=\".2f\", cmap='coolwarm', square=True, cbar=True)\n",
    "\n",
    "# Set the title\n",
    "plt.title('Correlation Heatmap of H&M Dataset')\n",
    "\n",
    "# Show the plot\n",
    "plt.show()"
   ]
  },
  {
   "cell_type": "markdown",
   "id": "7072926c",
   "metadata": {},
   "source": [
    "# 5. DATA MODELLING"
   ]
  },
  {
   "cell_type": "code",
   "execution_count": 61,
   "id": "8ccc5420",
   "metadata": {},
   "outputs": [],
   "source": [
    "import sqlite3\n",
    "\n",
    "# Establish a connection to an in-memory SQLite database\n",
    "conn = sqlite3.connect(':memory:')\n",
    "cursor = conn.cursor()\n",
    "\n",
    "# Execute SQL statements to create tables\n",
    "cursor.execute(\"\"\"\n",
    "CREATE TABLE Brand (\n",
    "    BrandID INTEGER PRIMARY KEY,\n",
    "    BrandName TEXT NOT NULL\n",
    ");\n",
    "\"\"\")\n",
    "\n",
    "cursor.execute(\"\"\"\n",
    "CREATE TABLE Category (\n",
    "    CategoryID INTEGER PRIMARY KEY,\n",
    "    CategoryName TEXT NOT NULL\n",
    ");\n",
    "\"\"\")\n",
    "\n",
    "cursor.execute(\"\"\"\n",
    "CREATE TABLE Product (\n",
    "    ProductID INTEGER PRIMARY KEY,\n",
    "    ProductName TEXT NOT NULL,\n",
    "    BrandID INTEGER,\n",
    "    CategoryID INTEGER,\n",
    "    Price REAL,\n",
    "    Color TEXT,\n",
    "    Size TEXT,\n",
    "    StockQuantity INTEGER,\n",
    "    FOREIGN KEY (BrandID) REFERENCES Brand(BrandID),\n",
    "    FOREIGN KEY (CategoryID) REFERENCES Category(CategoryID)\n",
    ");\n",
    "\"\"\")\n",
    "\n",
    "cursor.execute(\"\"\"\n",
    "CREATE TABLE Customer (\n",
    "    CustomerID INTEGER PRIMARY KEY,\n",
    "    Name TEXT NOT NULL,\n",
    "    Email TEXT NOT NULL UNIQUE,\n",
    "    Gender TEXT,\n",
    "    Age INTEGER,\n",
    "    MembershipStatus TEXT\n",
    ");\n",
    "\"\"\")\n",
    "\n",
    "cursor.execute(\"\"\"\n",
    "CREATE TABLE Orders (  -- Changed from Order to Orders\n",
    "    OrderID INTEGER PRIMARY KEY,\n",
    "    CustomerID INTEGER,\n",
    "    OrderDate DATETIME,\n",
    "    TotalAmount REAL,\n",
    "    PaymentMethod TEXT,\n",
    "    FOREIGN KEY (CustomerID) REFERENCES Customer(CustomerID)\n",
    ");\n",
    "\"\"\")\n",
    "\n",
    "cursor.execute(\"\"\"\n",
    "CREATE TABLE OrderDetails (\n",
    "    OrderID INTEGER,\n",
    "    ProductID INTEGER,\n",
    "    Quantity INTEGER,\n",
    "    Price REAL,\n",
    "    FOREIGN KEY (OrderID) REFERENCES Orders(OrderID),  -- Updated to match the new table name\n",
    "    FOREIGN KEY (ProductID) REFERENCES Product(ProductID)\n",
    ");\n",
    "\"\"\")\n",
    "\n",
    "# Commit changes and close the connection\n",
    "conn.commit()\n",
    "conn.close()"
   ]
  },
  {
   "cell_type": "code",
   "execution_count": 67,
   "id": "64878017",
   "metadata": {},
   "outputs": [],
   "source": [
    "# Save the DataFrame to a CSV file\n",
    "df_clean.to_csv('H&M_Analysis_Data_cleaned.csv')"
   ]
  }
 ],
 "metadata": {
  "kernelspec": {
   "display_name": ".venv",
   "language": "python",
   "name": "python3"
  },
  "language_info": {
   "codemirror_mode": {
    "name": "ipython",
    "version": 3
   },
   "file_extension": ".py",
   "mimetype": "text/x-python",
   "name": "python",
   "nbconvert_exporter": "python",
   "pygments_lexer": "ipython3",
   "version": "3.11.9"
  }
 },
 "nbformat": 4,
 "nbformat_minor": 5
}
